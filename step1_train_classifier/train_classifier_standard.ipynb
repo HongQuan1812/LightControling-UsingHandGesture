{
 "cells": [
  {
   "cell_type": "code",
   "execution_count": 1,
   "id": "9fa99b24",
   "metadata": {},
   "outputs": [],
   "source": [
    "import torch\n",
    "import torch.nn as nn\n",
    "import torch.nn.functional as F\n",
    "import torch.optim as optim\n",
    "import pandas as pd\n",
    "from torch.utils.data import Dataset, DataLoader\n",
    "from sklearn.model_selection import train_test_split\n",
    "from sklearn.metrics import accuracy_score, f1_score\n",
    "import matplotlib.pyplot as plt\n",
    "from sklearn.preprocessing import StandardScaler\n",
    "import joblib"
   ]
  },
  {
   "cell_type": "markdown",
   "id": "64dc6918",
   "metadata": {},
   "source": [
    "# Data"
   ]
  },
  {
   "cell_type": "code",
   "execution_count": 2,
   "id": "40b6841f",
   "metadata": {},
   "outputs": [],
   "source": [
    "data_train = pd.read_csv('../data/landmark_train.csv', header = None)\n",
    "data_train.rename(columns={0: 'class'}, inplace=True)\n",
    "\n",
    "data_val = pd.read_csv('../data/landmark_val.csv', header = None)\n",
    "data_val.rename(columns={0: 'class'}, inplace=True)\n",
    "\n",
    "data_test = pd.read_csv('../data/landmark_test.csv', header = None)\n",
    "data_test.rename(columns={0: 'class'}, inplace=True)"
   ]
  },
  {
   "cell_type": "code",
   "execution_count": 3,
   "id": "29442d50",
   "metadata": {},
   "outputs": [
    {
     "data": {
      "text/html": [
       "<div>\n",
       "<style scoped>\n",
       "    .dataframe tbody tr th:only-of-type {\n",
       "        vertical-align: middle;\n",
       "    }\n",
       "\n",
       "    .dataframe tbody tr th {\n",
       "        vertical-align: top;\n",
       "    }\n",
       "\n",
       "    .dataframe thead th {\n",
       "        text-align: right;\n",
       "    }\n",
       "</style>\n",
       "<table border=\"1\" class=\"dataframe\">\n",
       "  <thead>\n",
       "    <tr style=\"text-align: right;\">\n",
       "      <th></th>\n",
       "      <th>class</th>\n",
       "      <th>1</th>\n",
       "      <th>2</th>\n",
       "      <th>3</th>\n",
       "      <th>4</th>\n",
       "      <th>5</th>\n",
       "      <th>6</th>\n",
       "      <th>7</th>\n",
       "      <th>8</th>\n",
       "      <th>9</th>\n",
       "      <th>...</th>\n",
       "      <th>54</th>\n",
       "      <th>55</th>\n",
       "      <th>56</th>\n",
       "      <th>57</th>\n",
       "      <th>58</th>\n",
       "      <th>59</th>\n",
       "      <th>60</th>\n",
       "      <th>61</th>\n",
       "      <th>62</th>\n",
       "      <th>63</th>\n",
       "    </tr>\n",
       "  </thead>\n",
       "  <tbody>\n",
       "    <tr>\n",
       "      <th>0</th>\n",
       "      <td>0</td>\n",
       "      <td>0.288451</td>\n",
       "      <td>0.755826</td>\n",
       "      <td>-1.641675e-07</td>\n",
       "      <td>0.343430</td>\n",
       "      <td>0.610872</td>\n",
       "      <td>0.007127</td>\n",
       "      <td>0.338774</td>\n",
       "      <td>0.483970</td>\n",
       "      <td>0.012900</td>\n",
       "      <td>...</td>\n",
       "      <td>0.002779</td>\n",
       "      <td>0.166552</td>\n",
       "      <td>0.572639</td>\n",
       "      <td>0.017464</td>\n",
       "      <td>0.187247</td>\n",
       "      <td>0.594405</td>\n",
       "      <td>0.027215</td>\n",
       "      <td>0.197301</td>\n",
       "      <td>0.627522</td>\n",
       "      <td>0.031852</td>\n",
       "    </tr>\n",
       "    <tr>\n",
       "      <th>1</th>\n",
       "      <td>0</td>\n",
       "      <td>0.284355</td>\n",
       "      <td>0.758424</td>\n",
       "      <td>-1.626656e-07</td>\n",
       "      <td>0.340084</td>\n",
       "      <td>0.618892</td>\n",
       "      <td>0.005401</td>\n",
       "      <td>0.338207</td>\n",
       "      <td>0.493161</td>\n",
       "      <td>0.010639</td>\n",
       "      <td>...</td>\n",
       "      <td>0.002941</td>\n",
       "      <td>0.161730</td>\n",
       "      <td>0.581962</td>\n",
       "      <td>0.017628</td>\n",
       "      <td>0.182382</td>\n",
       "      <td>0.603506</td>\n",
       "      <td>0.027834</td>\n",
       "      <td>0.192918</td>\n",
       "      <td>0.633507</td>\n",
       "      <td>0.032845</td>\n",
       "    </tr>\n",
       "    <tr>\n",
       "      <th>2</th>\n",
       "      <td>0</td>\n",
       "      <td>0.772540</td>\n",
       "      <td>0.873969</td>\n",
       "      <td>-4.093911e-07</td>\n",
       "      <td>0.806356</td>\n",
       "      <td>0.753379</td>\n",
       "      <td>0.039669</td>\n",
       "      <td>0.809349</td>\n",
       "      <td>0.655948</td>\n",
       "      <td>0.044010</td>\n",
       "      <td>...</td>\n",
       "      <td>-0.051426</td>\n",
       "      <td>0.680994</td>\n",
       "      <td>0.618226</td>\n",
       "      <td>-0.028830</td>\n",
       "      <td>0.682399</td>\n",
       "      <td>0.657748</td>\n",
       "      <td>-0.008405</td>\n",
       "      <td>0.692334</td>\n",
       "      <td>0.687387</td>\n",
       "      <td>0.001152</td>\n",
       "    </tr>\n",
       "    <tr>\n",
       "      <th>3</th>\n",
       "      <td>0</td>\n",
       "      <td>0.772382</td>\n",
       "      <td>0.874898</td>\n",
       "      <td>-4.724001e-07</td>\n",
       "      <td>0.805449</td>\n",
       "      <td>0.756308</td>\n",
       "      <td>0.048195</td>\n",
       "      <td>0.809278</td>\n",
       "      <td>0.656744</td>\n",
       "      <td>0.055078</td>\n",
       "      <td>...</td>\n",
       "      <td>-0.056545</td>\n",
       "      <td>0.683569</td>\n",
       "      <td>0.617887</td>\n",
       "      <td>-0.028079</td>\n",
       "      <td>0.684179</td>\n",
       "      <td>0.657855</td>\n",
       "      <td>-0.005880</td>\n",
       "      <td>0.693053</td>\n",
       "      <td>0.688468</td>\n",
       "      <td>0.003123</td>\n",
       "    </tr>\n",
       "    <tr>\n",
       "      <th>4</th>\n",
       "      <td>0</td>\n",
       "      <td>0.774203</td>\n",
       "      <td>0.874685</td>\n",
       "      <td>-4.511580e-07</td>\n",
       "      <td>0.807134</td>\n",
       "      <td>0.754932</td>\n",
       "      <td>0.047895</td>\n",
       "      <td>0.810559</td>\n",
       "      <td>0.656776</td>\n",
       "      <td>0.054485</td>\n",
       "      <td>...</td>\n",
       "      <td>-0.055454</td>\n",
       "      <td>0.684528</td>\n",
       "      <td>0.616954</td>\n",
       "      <td>-0.027446</td>\n",
       "      <td>0.685310</td>\n",
       "      <td>0.657239</td>\n",
       "      <td>-0.005036</td>\n",
       "      <td>0.694569</td>\n",
       "      <td>0.687970</td>\n",
       "      <td>0.004399</td>\n",
       "    </tr>\n",
       "  </tbody>\n",
       "</table>\n",
       "<p>5 rows × 64 columns</p>\n",
       "</div>"
      ],
      "text/plain": [
       "   class         1         2             3         4         5         6  \\\n",
       "0      0  0.288451  0.755826 -1.641675e-07  0.343430  0.610872  0.007127   \n",
       "1      0  0.284355  0.758424 -1.626656e-07  0.340084  0.618892  0.005401   \n",
       "2      0  0.772540  0.873969 -4.093911e-07  0.806356  0.753379  0.039669   \n",
       "3      0  0.772382  0.874898 -4.724001e-07  0.805449  0.756308  0.048195   \n",
       "4      0  0.774203  0.874685 -4.511580e-07  0.807134  0.754932  0.047895   \n",
       "\n",
       "          7         8         9  ...        54        55        56        57  \\\n",
       "0  0.338774  0.483970  0.012900  ...  0.002779  0.166552  0.572639  0.017464   \n",
       "1  0.338207  0.493161  0.010639  ...  0.002941  0.161730  0.581962  0.017628   \n",
       "2  0.809349  0.655948  0.044010  ... -0.051426  0.680994  0.618226 -0.028830   \n",
       "3  0.809278  0.656744  0.055078  ... -0.056545  0.683569  0.617887 -0.028079   \n",
       "4  0.810559  0.656776  0.054485  ... -0.055454  0.684528  0.616954 -0.027446   \n",
       "\n",
       "         58        59        60        61        62        63  \n",
       "0  0.187247  0.594405  0.027215  0.197301  0.627522  0.031852  \n",
       "1  0.182382  0.603506  0.027834  0.192918  0.633507  0.032845  \n",
       "2  0.682399  0.657748 -0.008405  0.692334  0.687387  0.001152  \n",
       "3  0.684179  0.657855 -0.005880  0.693053  0.688468  0.003123  \n",
       "4  0.685310  0.657239 -0.005036  0.694569  0.687970  0.004399  \n",
       "\n",
       "[5 rows x 64 columns]"
      ]
     },
     "execution_count": 3,
     "metadata": {},
     "output_type": "execute_result"
    }
   ],
   "source": [
    "data_train.head()"
   ]
  },
  {
   "cell_type": "code",
   "execution_count": 4,
   "id": "52db3d78",
   "metadata": {},
   "outputs": [
    {
     "data": {
      "text/plain": [
       "(class\n",
       " 3    336\n",
       " 4    301\n",
       " 2    292\n",
       " 1    260\n",
       " 0    248\n",
       " Name: count, dtype: int64,\n",
       " class\n",
       " 4    189\n",
       " 3    175\n",
       " 2    146\n",
       " 0    145\n",
       " 1    137\n",
       " Name: count, dtype: int64,\n",
       " class\n",
       " 3    158\n",
       " 4    154\n",
       " 1    142\n",
       " 2    132\n",
       " 0    122\n",
       " Name: count, dtype: int64)"
      ]
     },
     "execution_count": 4,
     "metadata": {},
     "output_type": "execute_result"
    }
   ],
   "source": [
    "data_train['class'].value_counts(), data_val['class'].value_counts(), data_test['class'].value_counts()\n",
    "# Balanced dataset"
   ]
  },
  {
   "cell_type": "code",
   "execution_count": 5,
   "id": "2e0cd029",
   "metadata": {},
   "outputs": [],
   "source": [
    "# Convert dataframe to array\n",
    "X_train = data_train.iloc[:, 1:].values\n",
    "y_train = data_train.iloc[:, 0].values\n",
    "\n",
    "X_val = data_val.iloc[:, 1:].values\n",
    "y_val = data_val.iloc[:, 0].values\n",
    "\n",
    "X_test = data_test.iloc[:, 1:].values\n",
    "y_test = data_test.iloc[:, 0].values"
   ]
  },
  {
   "cell_type": "code",
   "execution_count": 6,
   "id": "0286ba1f",
   "metadata": {},
   "outputs": [
    {
     "data": {
      "text/plain": [
       "((1437, 63), (1437,))"
      ]
     },
     "execution_count": 6,
     "metadata": {},
     "output_type": "execute_result"
    }
   ],
   "source": [
    "X_train.shape, y_train.shape"
   ]
  },
  {
   "cell_type": "markdown",
   "id": "d9952b7d",
   "metadata": {},
   "source": [
    "# Normalize data"
   ]
  },
  {
   "cell_type": "code",
   "execution_count": 7,
   "id": "47b3443a",
   "metadata": {},
   "outputs": [
    {
     "data": {
      "text/plain": [
       "((1437, 63), (708, 63), (792, 63), (1437,), (708,), (792,))"
      ]
     },
     "execution_count": 7,
     "metadata": {},
     "output_type": "execute_result"
    }
   ],
   "source": [
    "scaler = StandardScaler()\n",
    "scaler.fit(X_train)\n",
    "joblib.dump(scaler, 'scaler.pkl')\n",
    "\n",
    "X_train = scaler.transform(X_train)\n",
    "X_test = scaler.transform(X_test)\n",
    "X_val = scaler.transform(X_val)\n",
    "X_train.shape, X_test.shape, X_val.shape, y_train.shape, y_test.shape, y_val.shape"
   ]
  },
  {
   "cell_type": "code",
   "execution_count": 8,
   "id": "bd46ec4f",
   "metadata": {},
   "outputs": [],
   "source": [
    "# Convert nparray to tensor because torch only accepts tensor and we need to use neural network\n",
    "X_train = torch.tensor(X_train, dtype=torch.float32)\n",
    "X_val = torch.tensor(X_val, dtype=torch.float32)\n",
    "X_test = torch.tensor(X_test, dtype=torch.float32)\n",
    "y_train = torch.tensor(y_train, dtype=torch.long)\n",
    "y_val = torch.tensor(y_val, dtype=torch.long)\n",
    "y_test = torch.tensor(y_test, dtype=torch.long)"
   ]
  },
  {
   "cell_type": "markdown",
   "id": "265e23a5",
   "metadata": {},
   "source": [
    "# Build DataLoader"
   ]
  },
  {
   "cell_type": "code",
   "execution_count": 9,
   "id": "661b529f",
   "metadata": {},
   "outputs": [],
   "source": [
    "batch_size = 64"
   ]
  },
  {
   "cell_type": "code",
   "execution_count": 10,
   "id": "508922ae",
   "metadata": {},
   "outputs": [],
   "source": [
    "class CustomDataset(Dataset):\n",
    "    def __init__(self, X, y):\n",
    "        super().__init__()\n",
    "        self.X = X\n",
    "        self.y = y\n",
    "\n",
    "    def __len__(self):\n",
    "        return len(self.y)\n",
    "    \n",
    "    def __getitem__(self, index):\n",
    "        return self.X[index], self.y[index]\n",
    "        \n",
    "training_data = CustomDataset(X_train, y_train)\n",
    "test_data = CustomDataset(X_test, y_test)\n",
    "val_data = CustomDataset(X_val, y_val)\n",
    "\n",
    "train_loader = DataLoader(training_data, batch_size=batch_size, shuffle=True)\n",
    "test_loader = DataLoader(test_data, batch_size=batch_size, shuffle=False)\n",
    "val_loader = DataLoader(test_data, batch_size=batch_size, shuffle=False)"
   ]
  },
  {
   "cell_type": "markdown",
   "id": "5d0372c7",
   "metadata": {},
   "source": [
    "# Build MLP Model"
   ]
  },
  {
   "cell_type": "code",
   "execution_count": 11,
   "id": "18c9525d",
   "metadata": {},
   "outputs": [],
   "source": [
    "from typing import Literal, Optional\n",
    "import math\n",
    "import random\n",
    "class NeuralNetwork(nn.Module):\n",
    "    def __init__(self, input_size, hidden_size, hidden_layer, output_size):\n",
    "        super().__init__()\n",
    "        \n",
    "        # Set up layers\n",
    "        layers = [\n",
    "            nn.Linear(input_size, hidden_size),\n",
    "            nn.LeakyReLU(0.1)\n",
    "        ]\n",
    "        \n",
    "        for _ in range(hidden_layer - 1):\n",
    "            layers.append(nn.Linear(hidden_size, hidden_size))\n",
    "            layers.append(nn.LeakyReLU(0.1))\n",
    "        \n",
    "        layers.append(nn.Linear(hidden_size, output_size))\n",
    "\n",
    "        self.classifier = nn.Sequential(*layers)\n",
    "        \n",
    "        # # Initialize weights\n",
    "        # for layer in self.classifier:\n",
    "        #     if isinstance(layer, nn.Linear):\n",
    "        #         nn.init.xavier_uniform_(layer.weight)\n",
    "        #         if layer.bias is not None:\n",
    "        #             nn.init.zeros_(layer.bias)\n",
    "\n",
    "        # Initialize weights\n",
    "        for layer in self.classifier:\n",
    "            if isinstance(layer, nn.Linear):\n",
    "                nn.init.kaiming_uniform_(layer.weight, nonlinearity='leaky_relu')  # or 'leaky_relu'\n",
    "                if layer.bias is not None:\n",
    "                    nn.init.zeros_(layer.bias)\n",
    "    \n",
    "    def forward(self, X):\n",
    "        output = self.classifier(X)\n",
    "        return output\n",
    "    \n",
    "    def predict(self,x,threshold=0.9):\n",
    "        logits = self(x)\n",
    "        softmax_prob = nn.Softmax(dim=1)(logits)\n",
    "        # print(softmax_prob)\n",
    "        max_probs, chosen_inds = torch.max(softmax_prob, dim=1)\n",
    "        print(max_probs, chosen_inds)\n",
    "        return torch.where(max_probs>0.9,chosen_inds,-1)"
   ]
  },
  {
   "cell_type": "markdown",
   "id": "51ea957e",
   "metadata": {},
   "source": [
    "# Training Session"
   ]
  },
  {
   "cell_type": "code",
   "execution_count": 12,
   "id": "97215602",
   "metadata": {},
   "outputs": [],
   "source": [
    "train_lossess = []\n",
    "val_lossess = []\n",
    "f1_train = []\n",
    "f1_val = []"
   ]
  },
  {
   "cell_type": "code",
   "execution_count": 13,
   "id": "7414ceca",
   "metadata": {},
   "outputs": [
    {
     "data": {
      "text/plain": [
       "NeuralNetwork(\n",
       "  (classifier): Sequential(\n",
       "    (0): Linear(in_features=63, out_features=100, bias=True)\n",
       "    (1): LeakyReLU(negative_slope=0.1)\n",
       "    (2): Linear(in_features=100, out_features=100, bias=True)\n",
       "    (3): LeakyReLU(negative_slope=0.1)\n",
       "    (4): Linear(in_features=100, out_features=100, bias=True)\n",
       "    (5): LeakyReLU(negative_slope=0.1)\n",
       "    (6): Linear(in_features=100, out_features=5, bias=True)\n",
       "  )\n",
       ")"
      ]
     },
     "execution_count": 13,
     "metadata": {},
     "output_type": "execute_result"
    }
   ],
   "source": [
    "epochs = 150\n",
    "\n",
    "input_size = X_train.shape[1]\n",
    "hidden_size = 100\n",
    "\n",
    "hidden_layer = 3\n",
    "output_size = len(torch.unique(y_train))\n",
    "model = NeuralNetwork(input_size, hidden_size, hidden_layer, output_size)\n",
    "\n",
    "lr = 0.001\n",
    "optimizer = optim.Adam(model.parameters(), lr=lr)\n",
    "\n",
    "criterion = nn.CrossEntropyLoss()\n",
    "\n",
    "scheduler = optim.lr_scheduler.StepLR(optimizer, step_size=10, gamma=0.5)\n",
    "\n",
    "model"
   ]
  },
  {
   "cell_type": "code",
   "execution_count": 14,
   "id": "18b3df57",
   "metadata": {},
   "outputs": [
    {
     "name": "stdout",
     "output_type": "stream",
     "text": [
      "Epoch 1: New best F1 on val = 0.8986, saving model...\n",
      "Epoch 2: New best F1 on val = 0.9405, saving model...\n",
      "Epoch 3: New best F1 on val = 0.9641, saving model...\n",
      "Epoch 4: New best F1 on val = 0.9972, saving model...\n",
      "Epoch 5: New best F1 on val = 0.9986, saving model...\n",
      "Training complete. Best model saved as 'best_model.pth'\n"
     ]
    }
   ],
   "source": [
    "best_f1_val = 0.0\n",
    "best_model_state = None\n",
    "\n",
    "train_lossess = []\n",
    "val_lossess = []\n",
    "f1_train = []\n",
    "f1_val = []\n",
    "\n",
    "for epoch in range(epochs):\n",
    "    train_loss = 0\n",
    "    val_loss = 0\n",
    "\n",
    "    y_train_label_pred = []\n",
    "    y_train_label_true = []\n",
    "\n",
    "    y_val_label_pred = []\n",
    "    y_val_label_true = []\n",
    "\n",
    "    # Training session\n",
    "    model.train()\n",
    "    for X_train, y_train in train_loader:\n",
    "        optimizer.zero_grad()  # Reset gradients\n",
    "\n",
    "        # Forward pass\n",
    "        y_pred = model(X_train)\n",
    "\n",
    "        # Compute loss\n",
    "        loss = criterion(y_pred, y_train)\n",
    "        train_loss += loss.item()\n",
    "\n",
    "        # Predictions\n",
    "        y_train_label_true.extend(y_train.tolist())\n",
    "        y_train_label_pred.extend(torch.argmax(y_pred, dim=1).tolist())\n",
    "\n",
    "        # Backpropagation\n",
    "        loss.backward()\n",
    "        optimizer.step()\n",
    "\n",
    "    train_loss /= len(train_loader)\n",
    "    train_lossess.append(train_loss)\n",
    "\n",
    "    f1_score_train = f1_score(y_train_label_true, y_train_label_pred, average='macro')\n",
    "    f1_train.append(f1_score_train)\n",
    "\n",
    "    # Validation session\n",
    "    model.eval()\n",
    "    with torch.no_grad():\n",
    "        for X_val, y_val in val_loader:\n",
    "            y_pred = model(X_val)\n",
    "            loss = criterion(y_pred, y_val)\n",
    "            val_loss += loss.item()\n",
    "\n",
    "            y_val_label_true.extend(y_val.tolist())\n",
    "            y_val_label_pred.extend(torch.argmax(y_pred, dim=1).tolist())\n",
    "\n",
    "        val_loss /= len(val_loader)\n",
    "        val_lossess.append(val_loss)\n",
    "\n",
    "        f1_score_val = f1_score(y_val_label_true, y_val_label_pred, average='macro')\n",
    "        f1_val.append(f1_score_val)\n",
    "\n",
    "        # Save best model based on validation F1 score\n",
    "        if f1_score_val > best_f1_val:\n",
    "            best_f1_val = f1_score_val\n",
    "            best_model_state = model.state_dict()\n",
    "            print(f\"Epoch {epoch+1}: New best F1 on val = {f1_score_val:.4f}, saving model...\")\n",
    "        \n",
    "        scheduler.step()\n",
    "\n",
    "# After training, save the best model weights to a file\n",
    "torch.save(best_model_state, 'best_model.pth')\n",
    "print(\"Training complete. Best model saved as 'best_model.pth'\")"
   ]
  },
  {
   "cell_type": "code",
   "execution_count": 15,
   "id": "2b44902d",
   "metadata": {},
   "outputs": [
    {
     "data": {
      "image/png": "[encoded data removed]",
      "text/plain": [
       "<Figure size 1200x1000 with 4 Axes>"
      ]
     },
     "metadata": {},
     "output_type": "display_data"
    }
   ],
   "source": [
    "fig, ax = plt.subplots(2, 2, figsize=(12, 10))\n",
    "ax[0, 0].plot(train_lossess, color='green')\n",
    "ax[0, 0].set(xlabel='Epoch', ylabel='Loss')\n",
    "ax[0, 0].set_title('Training Loss')\n",
    "\n",
    "ax[0, 1].plot(val_lossess, color='orange')\n",
    "ax[0, 1].set(xlabel='Epoch', ylabel='Loss')\n",
    "ax[0, 1].set_title('Validation Loss')\n",
    "\n",
    "ax[1, 0].plot(f1_train, color='green')\n",
    "ax[1, 0].set(xlabel='Epoch', ylabel='R2')\n",
    "ax[1, 0].set_title('Training F1 Score')\n",
    "\n",
    "ax[1, 1].plot(f1_val, color='orange')\n",
    "ax[1, 1].set(xlabel='Epoch', ylabel='R2')\n",
    "ax[1, 1].set_title('Validation F1 Score')\n",
    "plt.tight_layout()\n",
    "\n",
    "plt.show()"
   ]
  },
  {
   "cell_type": "markdown",
   "id": "b31462f2",
   "metadata": {},
   "source": [
    "# Evaluation"
   ]
  },
  {
   "cell_type": "code",
   "execution_count": 16,
   "id": "8b1b3990",
   "metadata": {},
   "outputs": [
    {
     "name": "stderr",
     "output_type": "stream",
     "text": [
      "/var/folders/tj/fhptpgmj2dv2nwb43c0_06540000gp/T/ipykernel_45227/4221509565.py:1: FutureWarning: You are using `torch.load` with `weights_only=False` (the current default value), which uses the default pickle module implicitly. It is possible to construct malicious pickle data which will execute arbitrary code during unpickling (See https://github.com/pytorch/pytorch/blob/main/SECURITY.md#untrusted-models for more details). In a future release, the default value for `weights_only` will be flipped to `True`. This limits the functions that could be executed during unpickling. Arbitrary objects will no longer be allowed to be loaded via this mode unless they are explicitly allowlisted by the user via `torch.serialization.add_safe_globals`. We recommend you start setting `weights_only=True` for any use case where you don't have full control of the loaded file. Please open an issue on GitHub for any issues related to this experimental feature.\n",
      "  best_model_state = torch.load('best_model.pth', map_location=torch.device('cpu'))\n"
     ]
    },
    {
     "data": {
      "text/plain": [
       "<All keys matched successfully>"
      ]
     },
     "execution_count": 16,
     "metadata": {},
     "output_type": "execute_result"
    }
   ],
   "source": [
    "best_model_state = torch.load('best_model.pth', map_location=torch.device('cpu'))\n",
    "model.load_state_dict(best_model_state)"
   ]
  },
  {
   "cell_type": "code",
   "execution_count": 17,
   "id": "2db1ae2a",
   "metadata": {},
   "outputs": [
    {
     "name": "stdout",
     "output_type": "stream",
     "text": [
      "Test Loss: 0.0110\n",
      "Test Accuracy: 0.8247\n"
     ]
    }
   ],
   "source": [
    "model.eval()\n",
    "y_test_label_true = []\n",
    "y_test_label_pred = []\n",
    "test_loss = 0\n",
    "with torch.no_grad():\n",
    "    for X_test, y_test in test_loader:\n",
    "        # forward pass\n",
    "        logit = model(X_test)\n",
    "        softmax_prob = torch.softmax(logit, dim=1)\n",
    "        max_probs, chosen_inds = torch.max(softmax_prob, dim=1)\n",
    "     \n",
    "        y_pred = torch.where(max_probs>0.9,chosen_inds,-1)\n",
    "       \n",
    "        # calculate loss\n",
    "        loss = criterion(logit, y_test)\n",
    "        test_loss += loss.item()\n",
    "\n",
    "        # concat\n",
    "        y_test_label_true.extend(y_test.tolist())\n",
    "        y_test_label_pred.extend(y_pred.tolist())\n",
    "\n",
    "    test_loss /= len(test_loader)\n",
    "    \n",
    "    f1_score_test = f1_score(y_test_label_true, y_test_label_pred, average='macro')\n",
    "\n",
    "print(f'Test Loss: {test_loss:.4f}')\n",
    "print(f'Test Accuracy: {f1_score_test:.4f}')"
   ]
  },
  {
   "cell_type": "code",
   "execution_count": null,
   "id": "28d2da6a",
   "metadata": {},
   "outputs": [],
   "source": []
  }
 ],
 "metadata": {
  "kernelspec": {
   "display_name": "gesture_env",
   "language": "python",
   "name": "python3"
  },
  "language_info": {
   "codemirror_mode": {
    "name": "ipython",
    "version": 3
   },
   "file_extension": ".py",
   "mimetype": "text/x-python",
   "name": "python",
   "nbconvert_exporter": "python",
   "pygments_lexer": "ipython3",
   "version": "3.10.13"
  }
 },
 "nbformat": 4,
 "nbformat_minor": 5
}
