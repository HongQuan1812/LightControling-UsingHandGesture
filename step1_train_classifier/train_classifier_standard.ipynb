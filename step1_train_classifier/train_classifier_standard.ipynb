{
 "cells": [
  {
   "cell_type": "code",
   "execution_count": 233,
   "id": "9fa99b24",
   "metadata": {},
   "outputs": [],
   "source": [
    "import torch\n",
    "import torch.nn as nn\n",
    "import torch.nn.functional as F\n",
    "import torch.optim as optim\n",
    "import pandas as pd\n",
    "from torch.utils.data import Dataset, DataLoader\n",
    "from sklearn.model_selection import train_test_split\n",
    "from sklearn.metrics import accuracy_score, f1_score\n",
    "import matplotlib.pyplot as plt\n",
    "from sklearn.preprocessing import StandardScaler"
   ]
  },
  {
   "cell_type": "markdown",
   "id": "64dc6918",
   "metadata": {},
   "source": [
    "# Data"
   ]
  },
  {
   "cell_type": "code",
   "execution_count": 234,
   "id": "40b6841f",
   "metadata": {},
   "outputs": [],
   "source": [
    "data_train = pd.read_csv('../data/landmark_train.csv', header = None)\n",
    "data_train.rename(columns={0: 'class'}, inplace=True)\n",
    "\n",
    "data_val = pd.read_csv('../data/landmark_val.csv', header = None)\n",
    "data_val.rename(columns={0: 'class'}, inplace=True)\n",
    "\n",
    "data_test = pd.read_csv('../data/landmark_test.csv', header = None)\n",
    "data_test.rename(columns={0: 'class'}, inplace=True)"
   ]
  },
  {
   "cell_type": "code",
   "execution_count": 235,
   "id": "29442d50",
   "metadata": {},
   "outputs": [
    {
     "data": {
      "text/html": [
       "<div>\n",
       "<style scoped>\n",
       "    .dataframe tbody tr th:only-of-type {\n",
       "        vertical-align: middle;\n",
       "    }\n",
       "\n",
       "    .dataframe tbody tr th {\n",
       "        vertical-align: top;\n",
       "    }\n",
       "\n",
       "    .dataframe thead th {\n",
       "        text-align: right;\n",
       "    }\n",
       "</style>\n",
       "<table border=\"1\" class=\"dataframe\">\n",
       "  <thead>\n",
       "    <tr style=\"text-align: right;\">\n",
       "      <th></th>\n",
       "      <th>class</th>\n",
       "      <th>1</th>\n",
       "      <th>2</th>\n",
       "      <th>3</th>\n",
       "      <th>4</th>\n",
       "      <th>5</th>\n",
       "      <th>6</th>\n",
       "      <th>7</th>\n",
       "      <th>8</th>\n",
       "      <th>9</th>\n",
       "      <th>...</th>\n",
       "      <th>54</th>\n",
       "      <th>55</th>\n",
       "      <th>56</th>\n",
       "      <th>57</th>\n",
       "      <th>58</th>\n",
       "      <th>59</th>\n",
       "      <th>60</th>\n",
       "      <th>61</th>\n",
       "      <th>62</th>\n",
       "      <th>63</th>\n",
       "    </tr>\n",
       "  </thead>\n",
       "  <tbody>\n",
       "    <tr>\n",
       "      <th>0</th>\n",
       "      <td>1</td>\n",
       "      <td>0.737817</td>\n",
       "      <td>0.952539</td>\n",
       "      <td>-3.422762e-07</td>\n",
       "      <td>0.679783</td>\n",
       "      <td>0.910816</td>\n",
       "      <td>-0.040841</td>\n",
       "      <td>0.638355</td>\n",
       "      <td>0.798009</td>\n",
       "      <td>-0.067538</td>\n",
       "      <td>...</td>\n",
       "      <td>-0.079880</td>\n",
       "      <td>0.812031</td>\n",
       "      <td>0.786412</td>\n",
       "      <td>-0.110996</td>\n",
       "      <td>0.777773</td>\n",
       "      <td>0.853772</td>\n",
       "      <td>-0.109390</td>\n",
       "      <td>0.756940</td>\n",
       "      <td>0.840830</td>\n",
       "      <td>-0.103323</td>\n",
       "    </tr>\n",
       "    <tr>\n",
       "      <th>1</th>\n",
       "      <td>1</td>\n",
       "      <td>0.737788</td>\n",
       "      <td>0.949083</td>\n",
       "      <td>-3.280368e-07</td>\n",
       "      <td>0.679917</td>\n",
       "      <td>0.908141</td>\n",
       "      <td>-0.040232</td>\n",
       "      <td>0.638414</td>\n",
       "      <td>0.794934</td>\n",
       "      <td>-0.066173</td>\n",
       "      <td>...</td>\n",
       "      <td>-0.077981</td>\n",
       "      <td>0.809808</td>\n",
       "      <td>0.787309</td>\n",
       "      <td>-0.108219</td>\n",
       "      <td>0.775743</td>\n",
       "      <td>0.852140</td>\n",
       "      <td>-0.106052</td>\n",
       "      <td>0.755859</td>\n",
       "      <td>0.839046</td>\n",
       "      <td>-0.099421</td>\n",
       "    </tr>\n",
       "    <tr>\n",
       "      <th>2</th>\n",
       "      <td>1</td>\n",
       "      <td>0.740318</td>\n",
       "      <td>0.952811</td>\n",
       "      <td>-3.727930e-07</td>\n",
       "      <td>0.680487</td>\n",
       "      <td>0.912496</td>\n",
       "      <td>-0.040986</td>\n",
       "      <td>0.638046</td>\n",
       "      <td>0.801638</td>\n",
       "      <td>-0.068100</td>\n",
       "      <td>...</td>\n",
       "      <td>-0.079770</td>\n",
       "      <td>0.816616</td>\n",
       "      <td>0.784904</td>\n",
       "      <td>-0.111412</td>\n",
       "      <td>0.782650</td>\n",
       "      <td>0.853981</td>\n",
       "      <td>-0.109616</td>\n",
       "      <td>0.760015</td>\n",
       "      <td>0.842810</td>\n",
       "      <td>-0.103190</td>\n",
       "    </tr>\n",
       "    <tr>\n",
       "      <th>3</th>\n",
       "      <td>1</td>\n",
       "      <td>0.736159</td>\n",
       "      <td>0.958327</td>\n",
       "      <td>-3.369044e-07</td>\n",
       "      <td>0.677534</td>\n",
       "      <td>0.917838</td>\n",
       "      <td>-0.043093</td>\n",
       "      <td>0.635010</td>\n",
       "      <td>0.810609</td>\n",
       "      <td>-0.072415</td>\n",
       "      <td>...</td>\n",
       "      <td>-0.083434</td>\n",
       "      <td>0.813695</td>\n",
       "      <td>0.791525</td>\n",
       "      <td>-0.114416</td>\n",
       "      <td>0.779570</td>\n",
       "      <td>0.860431</td>\n",
       "      <td>-0.111203</td>\n",
       "      <td>0.757949</td>\n",
       "      <td>0.846861</td>\n",
       "      <td>-0.103791</td>\n",
       "    </tr>\n",
       "    <tr>\n",
       "      <th>4</th>\n",
       "      <td>1</td>\n",
       "      <td>0.736295</td>\n",
       "      <td>0.961405</td>\n",
       "      <td>-2.995568e-07</td>\n",
       "      <td>0.677813</td>\n",
       "      <td>0.919901</td>\n",
       "      <td>-0.039999</td>\n",
       "      <td>0.633051</td>\n",
       "      <td>0.815260</td>\n",
       "      <td>-0.067304</td>\n",
       "      <td>...</td>\n",
       "      <td>-0.081325</td>\n",
       "      <td>0.801587</td>\n",
       "      <td>0.814893</td>\n",
       "      <td>-0.110820</td>\n",
       "      <td>0.769165</td>\n",
       "      <td>0.876808</td>\n",
       "      <td>-0.107950</td>\n",
       "      <td>0.753947</td>\n",
       "      <td>0.866378</td>\n",
       "      <td>-0.100151</td>\n",
       "    </tr>\n",
       "  </tbody>\n",
       "</table>\n",
       "<p>5 rows × 64 columns</p>\n",
       "</div>"
      ],
      "text/plain": [
       "   class         1         2             3         4         5         6  \\\n",
       "0      1  0.737817  0.952539 -3.422762e-07  0.679783  0.910816 -0.040841   \n",
       "1      1  0.737788  0.949083 -3.280368e-07  0.679917  0.908141 -0.040232   \n",
       "2      1  0.740318  0.952811 -3.727930e-07  0.680487  0.912496 -0.040986   \n",
       "3      1  0.736159  0.958327 -3.369044e-07  0.677534  0.917838 -0.043093   \n",
       "4      1  0.736295  0.961405 -2.995568e-07  0.677813  0.919901 -0.039999   \n",
       "\n",
       "          7         8         9  ...        54        55        56        57  \\\n",
       "0  0.638355  0.798009 -0.067538  ... -0.079880  0.812031  0.786412 -0.110996   \n",
       "1  0.638414  0.794934 -0.066173  ... -0.077981  0.809808  0.787309 -0.108219   \n",
       "2  0.638046  0.801638 -0.068100  ... -0.079770  0.816616  0.784904 -0.111412   \n",
       "3  0.635010  0.810609 -0.072415  ... -0.083434  0.813695  0.791525 -0.114416   \n",
       "4  0.633051  0.815260 -0.067304  ... -0.081325  0.801587  0.814893 -0.110820   \n",
       "\n",
       "         58        59        60        61        62        63  \n",
       "0  0.777773  0.853772 -0.109390  0.756940  0.840830 -0.103323  \n",
       "1  0.775743  0.852140 -0.106052  0.755859  0.839046 -0.099421  \n",
       "2  0.782650  0.853981 -0.109616  0.760015  0.842810 -0.103190  \n",
       "3  0.779570  0.860431 -0.111203  0.757949  0.846861 -0.103791  \n",
       "4  0.769165  0.876808 -0.107950  0.753947  0.866378 -0.100151  \n",
       "\n",
       "[5 rows x 64 columns]"
      ]
     },
     "execution_count": 235,
     "metadata": {},
     "output_type": "execute_result"
    }
   ],
   "source": [
    "data_train.head()"
   ]
  },
  {
   "cell_type": "code",
   "execution_count": 236,
   "id": "52db3d78",
   "metadata": {},
   "outputs": [
    {
     "data": {
      "text/plain": [
       "class\n",
       "4    270\n",
       "3    265\n",
       "1    238\n",
       "0    227\n",
       "2    224\n",
       "Name: count, dtype: int64"
      ]
     },
     "execution_count": 236,
     "metadata": {},
     "output_type": "execute_result"
    }
   ],
   "source": [
    "data_train['class'].value_counts()\n",
    "# Balanced dataset"
   ]
  },
  {
   "cell_type": "code",
   "execution_count": 237,
   "id": "2e0cd029",
   "metadata": {},
   "outputs": [],
   "source": [
    "# Convert dataframe to array\n",
    "X_train = data_train.iloc[:, 1:].values\n",
    "y_train = data_train.iloc[:, 0].values\n",
    "\n",
    "X_val = data_val.iloc[:, 1:].values\n",
    "y_val = data_val.iloc[:, 0].values\n",
    "\n",
    "X_test = data_test.iloc[:, 1:].values\n",
    "y_test = data_test.iloc[:, 0].values"
   ]
  },
  {
   "cell_type": "code",
   "execution_count": 238,
   "id": "0286ba1f",
   "metadata": {},
   "outputs": [
    {
     "data": {
      "text/plain": [
       "((1224, 63), (1224,))"
      ]
     },
     "execution_count": 238,
     "metadata": {},
     "output_type": "execute_result"
    }
   ],
   "source": [
    "X_train.shape, y_train.shape"
   ]
  },
  {
   "cell_type": "markdown",
   "id": "d9952b7d",
   "metadata": {},
   "source": [
    "# Normalize data"
   ]
  },
  {
   "cell_type": "code",
   "execution_count": 239,
   "id": "47b3443a",
   "metadata": {},
   "outputs": [
    {
     "data": {
      "text/plain": [
       "((1224, 63), (422, 63), (453, 63), (1224,), (422,), (453,))"
      ]
     },
     "execution_count": 239,
     "metadata": {},
     "output_type": "execute_result"
    }
   ],
   "source": [
    "scaler = StandardScaler()\n",
    "scaler.fit(X_train)\n",
    "\n",
    "X_train = scaler.transform(X_train)\n",
    "X_test = scaler.transform(X_test)\n",
    "X_val = scaler.transform(X_val)\n",
    "X_train.shape, X_test.shape, X_val.shape, y_train.shape, y_test.shape, y_val.shape"
   ]
  },
  {
   "cell_type": "code",
   "execution_count": 240,
   "id": "bd46ec4f",
   "metadata": {},
   "outputs": [],
   "source": [
    "# Convert nparray to tensor because torch only accepts tensor and we need to use neural network\n",
    "X_train = torch.tensor(X_train, dtype=torch.float32)\n",
    "X_val = torch.tensor(X_val, dtype=torch.float32)\n",
    "X_test = torch.tensor(X_test, dtype=torch.float32)\n",
    "y_train = torch.tensor(y_train, dtype=torch.long)\n",
    "y_val = torch.tensor(y_val, dtype=torch.long)\n",
    "y_test = torch.tensor(y_test, dtype=torch.long)"
   ]
  },
  {
   "cell_type": "markdown",
   "id": "265e23a5",
   "metadata": {},
   "source": [
    "# Build DataLoader"
   ]
  },
  {
   "cell_type": "code",
   "execution_count": 241,
   "id": "661b529f",
   "metadata": {},
   "outputs": [],
   "source": [
    "batch_size = 64"
   ]
  },
  {
   "cell_type": "code",
   "execution_count": 242,
   "id": "508922ae",
   "metadata": {},
   "outputs": [],
   "source": [
    "class CustomDataset(Dataset):\n",
    "    def __init__(self, X, y):\n",
    "        super().__init__()\n",
    "        self.X = X\n",
    "        self.y = y\n",
    "\n",
    "    def __len__(self):\n",
    "        return len(self.y)\n",
    "    \n",
    "    def __getitem__(self, index):\n",
    "        return self.X[index], self.y[index]\n",
    "        \n",
    "training_data = CustomDataset(X_train, y_train)\n",
    "test_data = CustomDataset(X_test, y_test)\n",
    "val_data = CustomDataset(X_val, y_val)\n",
    "\n",
    "train_loader = DataLoader(training_data, batch_size=batch_size, shuffle=True)\n",
    "test_loader = DataLoader(test_data, batch_size=batch_size, shuffle=False)\n",
    "val_loader = DataLoader(test_data, batch_size=batch_size, shuffle=False)"
   ]
  },
  {
   "cell_type": "markdown",
   "id": "5d0372c7",
   "metadata": {},
   "source": [
    "# Build MLP Model - ThuyDuc Ver"
   ]
  },
  {
   "cell_type": "code",
   "execution_count": 243,
   "id": "18c9525d",
   "metadata": {},
   "outputs": [],
   "source": [
    "from typing import Literal, Optional\n",
    "import math\n",
    "import random\n",
    "class NeuralNetwork(nn.Module):\n",
    "    def __init__(self, input_size, hidden_size, hidden_layer, output_size):\n",
    "        super().__init__()\n",
    "        \n",
    "        # Set up layers\n",
    "        layers = [\n",
    "            nn.Linear(input_size, hidden_size),\n",
    "            nn.LeakyReLU(0.1)\n",
    "        ]\n",
    "        \n",
    "        for _ in range(hidden_layer - 1):\n",
    "            layers.append(nn.Linear(hidden_size, hidden_size))\n",
    "            layers.append(nn.LeakyReLU(0.1))\n",
    "        \n",
    "        layers.append(nn.Linear(hidden_size, output_size))\n",
    "\n",
    "        self.classifier = nn.Sequential(*layers)\n",
    "        \n",
    "        # # Initialize weights\n",
    "        # for layer in self.classifier:\n",
    "        #     if isinstance(layer, nn.Linear):\n",
    "        #         nn.init.xavier_uniform_(layer.weight)\n",
    "        #         if layer.bias is not None:\n",
    "        #             nn.init.zeros_(layer.bias)\n",
    "\n",
    "        # Initialize weights\n",
    "        for layer in self.classifier:\n",
    "            if isinstance(layer, nn.Linear):\n",
    "                nn.init.kaiming_uniform_(layer.weight, nonlinearity='relu')  # or 'leaky_relu'\n",
    "                if layer.bias is not None:\n",
    "                    nn.init.zeros_(layer.bias)\n",
    "    \n",
    "    def forward(self, X):\n",
    "        output = self.classifier(X)\n",
    "        return output"
   ]
  },
  {
   "cell_type": "markdown",
   "id": "51ea957e",
   "metadata": {},
   "source": [
    "# Training Session"
   ]
  },
  {
   "cell_type": "code",
   "execution_count": 244,
   "id": "97215602",
   "metadata": {},
   "outputs": [],
   "source": [
    "train_lossess = []\n",
    "val_lossess = []\n",
    "f1_train = []\n",
    "f1_val = []"
   ]
  },
  {
   "cell_type": "code",
   "execution_count": 245,
   "id": "7414ceca",
   "metadata": {},
   "outputs": [
    {
     "data": {
      "text/plain": [
       "NeuralNetwork(\n",
       "  (classifier): Sequential(\n",
       "    (0): Linear(in_features=63, out_features=256, bias=True)\n",
       "    (1): LeakyReLU(negative_slope=0.1)\n",
       "    (2): Linear(in_features=256, out_features=256, bias=True)\n",
       "    (3): LeakyReLU(negative_slope=0.1)\n",
       "    (4): Linear(in_features=256, out_features=256, bias=True)\n",
       "    (5): LeakyReLU(negative_slope=0.1)\n",
       "    (6): Linear(in_features=256, out_features=5, bias=True)\n",
       "  )\n",
       ")"
      ]
     },
     "execution_count": 245,
     "metadata": {},
     "output_type": "execute_result"
    }
   ],
   "source": [
    "epochs = 300\n",
    "\n",
    "input_size = X_train.shape[1]\n",
    "hidden_size = 256\n",
    "hidden_layer = 3\n",
    "output_size = len(torch.unique(y_train))\n",
    "model = NeuralNetwork(input_size, hidden_size, hidden_layer, output_size)\n",
    "\n",
    "lr = 0.01\n",
    "optimizer = optim.SGD(model.parameters(), lr=lr)\n",
    "\n",
    "criterion = nn.CrossEntropyLoss()\n",
    "model"
   ]
  },
  {
   "cell_type": "code",
   "execution_count": 246,
   "id": "18b3df57",
   "metadata": {},
   "outputs": [
    {
     "name": "stdout",
     "output_type": "stream",
     "text": [
      "Epoch 1: New best F1 on val = 0.6556, saving model...\n",
      "Epoch 2: New best F1 on val = 0.7467, saving model...\n",
      "Epoch 3: New best F1 on val = 0.8008, saving model...\n",
      "Epoch 5: New best F1 on val = 0.8339, saving model...\n",
      "Epoch 6: New best F1 on val = 0.8400, saving model...\n",
      "Epoch 8: New best F1 on val = 0.8539, saving model...\n",
      "Epoch 9: New best F1 on val = 0.8699, saving model...\n",
      "Epoch 15: New best F1 on val = 0.8755, saving model...\n",
      "Epoch 19: New best F1 on val = 0.8890, saving model...\n",
      "Epoch 34: New best F1 on val = 0.8895, saving model...\n",
      "Epoch 35: New best F1 on val = 0.8916, saving model...\n",
      "Epoch 53: New best F1 on val = 0.8917, saving model...\n",
      "Epoch 54: New best F1 on val = 0.8921, saving model...\n",
      "Epoch 64: New best F1 on val = 0.8940, saving model...\n",
      "Epoch 65: New best F1 on val = 0.8943, saving model...\n",
      "Epoch 72: New best F1 on val = 0.8964, saving model...\n",
      "Epoch 89: New best F1 on val = 0.9003, saving model...\n",
      "Epoch 188: New best F1 on val = 0.9006, saving model...\n",
      "Epoch 194: New best F1 on val = 0.9029, saving model...\n",
      "Epoch 214: New best F1 on val = 0.9030, saving model...\n",
      "Epoch 219: New best F1 on val = 0.9051, saving model...\n",
      "Epoch 241: New best F1 on val = 0.9073, saving model...\n",
      "Epoch 276: New best F1 on val = 0.9092, saving model...\n",
      "Training complete. Best model saved as 'best_model.pth'\n"
     ]
    }
   ],
   "source": [
    "best_f1_val = 0.0\n",
    "best_model_state = None\n",
    "\n",
    "train_lossess = []\n",
    "val_lossess = []\n",
    "f1_train = []\n",
    "f1_val = []\n",
    "\n",
    "for epoch in range(epochs):\n",
    "    train_loss = 0\n",
    "    val_loss = 0\n",
    "\n",
    "    y_train_label_pred = []\n",
    "    y_train_label_true = []\n",
    "\n",
    "    y_val_label_pred = []\n",
    "    y_val_label_true = []\n",
    "\n",
    "    # Training session\n",
    "    model.train()\n",
    "    for X_train, y_train in train_loader:\n",
    "        optimizer.zero_grad()  # Reset gradients\n",
    "\n",
    "        # Forward pass\n",
    "        y_pred = model(X_train)\n",
    "\n",
    "        # Compute loss\n",
    "        loss = criterion(y_pred, y_train)\n",
    "        train_loss += loss.item()\n",
    "\n",
    "        # Predictions\n",
    "        y_train_label_true.extend(y_train.tolist())\n",
    "        y_train_label_pred.extend(torch.argmax(y_pred, dim=1).tolist())\n",
    "\n",
    "        # Backpropagation\n",
    "        loss.backward()\n",
    "        optimizer.step()\n",
    "\n",
    "    train_loss /= len(train_loader)\n",
    "    train_lossess.append(train_loss)\n",
    "\n",
    "    f1_score_train = f1_score(y_train_label_true, y_train_label_pred, average='macro')\n",
    "    f1_train.append(f1_score_train)\n",
    "\n",
    "    # Validation session\n",
    "    model.eval()\n",
    "    with torch.no_grad():\n",
    "        for X_val, y_val in val_loader:\n",
    "            y_pred = model(X_val)\n",
    "            loss = criterion(y_pred, y_val)\n",
    "            val_loss += loss.item()\n",
    "\n",
    "            y_val_label_true.extend(y_val.tolist())\n",
    "            y_val_label_pred.extend(torch.argmax(y_pred, dim=1).tolist())\n",
    "\n",
    "        val_loss /= len(val_loader)\n",
    "        val_lossess.append(val_loss)\n",
    "\n",
    "        f1_score_val = f1_score(y_val_label_true, y_val_label_pred, average='macro')\n",
    "        f1_val.append(f1_score_val)\n",
    "\n",
    "        # Save best model based on validation F1 score\n",
    "        if f1_score_val > best_f1_val:\n",
    "            best_f1_val = f1_score_val\n",
    "            best_model_state = model.state_dict()\n",
    "            print(f\"Epoch {epoch+1}: New best F1 on val = {f1_score_val:.4f}, saving model...\")\n",
    "\n",
    "# After training, save the best model weights to a file\n",
    "torch.save(best_model_state, 'best_model.pth')\n",
    "print(\"Training complete. Best model saved as 'best_model.pth'\")"
   ]
  },
  {
   "cell_type": "code",
   "execution_count": 247,
   "id": "2b44902d",
   "metadata": {},
   "outputs": [
    {
     "data": {
      "image/png": "[encoded data removed]",
      "text/plain": [
       "<Figure size 1200x1000 with 4 Axes>"
      ]
     },
     "metadata": {},
     "output_type": "display_data"
    }
   ],
   "source": [
    "fig, ax = plt.subplots(2, 2, figsize=(12, 10))\n",
    "ax[0, 0].plot(train_lossess, color='green')\n",
    "ax[0, 0].set(xlabel='Epoch', ylabel='Loss')\n",
    "ax[0, 0].set_title('Training Loss')\n",
    "\n",
    "ax[0, 1].plot(val_lossess, color='orange')\n",
    "ax[0, 1].set(xlabel='Epoch', ylabel='Loss')\n",
    "ax[0, 1].set_title('Validation Loss')\n",
    "\n",
    "ax[1, 0].plot(f1_train, color='green')\n",
    "ax[1, 0].set(xlabel='Epoch', ylabel='R2')\n",
    "ax[1, 0].set_title('Training F1 Score')\n",
    "\n",
    "ax[1, 1].plot(f1_val, color='orange')\n",
    "ax[1, 1].set(xlabel='Epoch', ylabel='R2')\n",
    "ax[1, 1].set_title('Validation F1 Score')\n",
    "plt.tight_layout()\n",
    "\n",
    "plt.show()"
   ]
  },
  {
   "cell_type": "markdown",
   "id": "b31462f2",
   "metadata": {},
   "source": [
    "# Evaluation"
   ]
  },
  {
   "cell_type": "code",
   "execution_count": 249,
   "id": "8b1b3990",
   "metadata": {},
   "outputs": [
    {
     "data": {
      "text/plain": [
       "<All keys matched successfully>"
      ]
     },
     "execution_count": 249,
     "metadata": {},
     "output_type": "execute_result"
    }
   ],
   "source": [
    "best_model_state = torch.load('best_model.pth', map_location=torch.device('cpu'))\n",
    "model.load_state_dict(best_model_state)"
   ]
  },
  {
   "cell_type": "code",
   "execution_count": 252,
   "id": "2db1ae2a",
   "metadata": {},
   "outputs": [
    {
     "name": "stdout",
     "output_type": "stream",
     "text": [
      "Test Loss: 0.2816\n",
      "Test Accuracy: 0.9072\n"
     ]
    }
   ],
   "source": [
    "model.eval()\n",
    "y_test_label_true = []\n",
    "y_test_label_pred = []\n",
    "test_loss = 0\n",
    "with torch.no_grad():\n",
    "    for X_test, y_test in test_loader:\n",
    "        # forward pass\n",
    "        y_pred = model(X_test)\n",
    "\n",
    "        # calculate loss\n",
    "        loss = criterion(y_pred, y_test)\n",
    "        test_loss += loss.item()\n",
    "\n",
    "        # concat\n",
    "        y_test_label_true.extend(y_test.tolist())\n",
    "        y_test_label_pred.extend(torch.argmax(y_pred, dim=1).tolist())\n",
    "\n",
    "    test_loss /= len(test_loader)\n",
    "\n",
    "\n",
    "    f1_score = f1_score(y_test_label_true, y_test_label_pred, average='macro')\n",
    "\n",
    "print(f'Test Loss: {test_loss:.4f}')\n",
    "print(f'Test Accuracy: {f1_score:.4f}')"
   ]
  }
 ],
 "metadata": {
  "kernelspec": {
   "display_name": "gesture_env",
   "language": "python",
   "name": "python3"
  },
  "language_info": {
   "codemirror_mode": {
    "name": "ipython",
    "version": 3
   },
   "file_extension": ".py",
   "mimetype": "text/x-python",
   "name": "python",
   "nbconvert_exporter": "python",
   "pygments_lexer": "ipython3",
   "version": "3.10.16"
  }
 },
 "nbformat": 4,
 "nbformat_minor": 5
}
